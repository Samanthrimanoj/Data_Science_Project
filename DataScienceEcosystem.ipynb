{
 "cells": [
  {
   "cell_type": "markdown",
   "id": "61e2f007",
   "metadata": {},
   "source": [
    "Data Science Tools and Ecosystem"
   ]
  },
  {
   "cell_type": "markdown",
   "id": "981fc868",
   "metadata": {},
   "source": [
    "In this notebook, Data Science Tools and Ecosystem are summarized."
   ]
  },
  {
   "cell_type": "markdown",
   "id": "2cd9c997",
   "metadata": {},
   "source": [
    "Some of the popular languages that Data Scientists use are:\n",
    "\n",
    " 1. R\n",
    " 2. Python\n",
    " 3. Julia"
   ]
  },
  {
   "cell_type": "markdown",
   "id": "0545c19c",
   "metadata": {},
   "source": [
    "**Objectives**\n",
    "\n",
    "List popular languages for Data Science\n",
    "\n",
    "- Python\n",
    "- R\n",
    "- Julia"
   ]
  },
  {
   "cell_type": "markdown",
   "id": "5f47fa0a",
   "metadata": {},
   "source": [
    "Some of the commonly used librries used by Data Scientists include:\n",
    "\n",
    "1. Numpy\n",
    "2. Pandas\n",
    "3. Matplotlib\n",
    "4. ggplot2"
   ]
  },
  {
   "cell_type": "markdown",
   "id": "fb4b399e",
   "metadata": {},
   "source": [
    "Data Science Tools\n",
    "\n",
    "1. Jupyter Notebook\n",
    "2. Jupyter Lab\n",
    "3. RStudio\n",
    "4. Spyder"
   ]
  },
  {
   "cell_type": "markdown",
   "id": "c21218eb",
   "metadata": {},
   "source": [
    "Below are a few examples of evaluating arithmetic expressions in Python"
   ]
  },
  {
   "cell_type": "code",
   "execution_count": 37,
   "id": "40d1ec09",
   "metadata": {},
   "outputs": [
    {
     "name": "stdout",
     "output_type": "stream",
     "text": [
      "17\n"
     ]
    }
   ],
   "source": [
    "# This a simple arithmetic expression to mutiply then add integers.\n",
    "print((3*4)+5)\n"
   ]
  },
  {
   "cell_type": "code",
   "execution_count": 38,
   "id": "fd09d8aa",
   "metadata": {},
   "outputs": [
    {
     "name": "stdout",
     "output_type": "stream",
     "text": [
      "200 minnutes is  equal to 3.3333333333333335 hours\n"
     ]
    }
   ],
   "source": [
    "# This will convert 200 minutes to hours by diving by 60\n",
    "minutes = 200\n",
    "hours = minutes / 60\n",
    "print(\"200 minnutes is  equal to\", hours,\"hours\")"
   ]
  },
  {
   "cell_type": "code",
   "execution_count": 39,
   "id": "d7b70f50",
   "metadata": {},
   "outputs": [
    {
     "name": "stdout",
     "output_type": "stream",
     "text": [
      "200 minutes is equal to 3.3333333333333335 hours.\n"
     ]
    }
   ],
   "source": [
    "#  Create a code cell to convert minutes to hours\n",
    "def minutes_to_hours(minutes):\n",
    "    hours = minutes / 60\n",
    "    return hours\n",
    "total_minutes = 200\n",
    "hours_converted = minutes_to_hours(total_minutes)\n",
    "print(f\"{total_minutes} minutes is equal to {hours_converted} hours.\")"
   ]
  },
  {
   "cell_type": "markdown",
   "id": "f0eaa164",
   "metadata": {},
   "source": [
    "Auther\n",
    "\n",
    "Manoj Manjunatha Samanthri"
   ]
  }
 ],
 "metadata": {
  "kernelspec": {
   "display_name": "Python 3",
   "language": "python",
   "name": "python3"
  },
  "language_info": {
   "codemirror_mode": {
    "name": "ipython",
    "version": 3
   },
   "file_extension": ".py",
   "mimetype": "text/x-python",
   "name": "python",
   "nbconvert_exporter": "python",
   "pygments_lexer": "ipython3",
   "version": "3.13.2"
  }
 },
 "nbformat": 4,
 "nbformat_minor": 5
}
